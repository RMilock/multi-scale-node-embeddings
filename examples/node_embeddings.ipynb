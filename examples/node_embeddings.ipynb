{
 "cells": [
  {
   "cell_type": "code",
   "execution_count": 1,
   "id": "2",
   "metadata": {},
   "outputs": [
    {
     "name": "stdout",
     "output_type": "stream",
     "text": [
      "-id_code, cg_method, year: ('int', 'geo-dist', 2000)\n",
      "\n",
      "Reading from local source @ ./data/Gleditsch-2000-Undirected/edges_int_pd.csv\n"
     ]
    },
    {
     "data": {
      "text/html": [
       "<div>\n",
       "<style scoped>\n",
       "    .dataframe tbody tr th:only-of-type {\n",
       "        vertical-align: middle;\n",
       "    }\n",
       "\n",
       "    .dataframe tbody tr th {\n",
       "        vertical-align: top;\n",
       "    }\n",
       "\n",
       "    .dataframe thead th {\n",
       "        text-align: right;\n",
       "    }\n",
       "</style>\n",
       "<table border=\"1\" class=\"dataframe\">\n",
       "  <thead>\n",
       "    <tr style=\"text-align: right;\">\n",
       "      <th></th>\n",
       "      <th>payer_int</th>\n",
       "      <th>beneficiary_int</th>\n",
       "      <th>amount</th>\n",
       "    </tr>\n",
       "  </thead>\n",
       "  <tbody>\n",
       "    <tr>\n",
       "      <th>0</th>\n",
       "      <td>0</td>\n",
       "      <td>4</td>\n",
       "      <td>3.500</td>\n",
       "    </tr>\n",
       "    <tr>\n",
       "      <th>1</th>\n",
       "      <td>0</td>\n",
       "      <td>5</td>\n",
       "      <td>0.032</td>\n",
       "    </tr>\n",
       "    <tr>\n",
       "      <th>2</th>\n",
       "      <td>0</td>\n",
       "      <td>8</td>\n",
       "      <td>1.048</td>\n",
       "    </tr>\n",
       "    <tr>\n",
       "      <th>3</th>\n",
       "      <td>0</td>\n",
       "      <td>9</td>\n",
       "      <td>1.000</td>\n",
       "    </tr>\n",
       "    <tr>\n",
       "      <th>4</th>\n",
       "      <td>0</td>\n",
       "      <td>10</td>\n",
       "      <td>1.000</td>\n",
       "    </tr>\n",
       "  </tbody>\n",
       "</table>\n",
       "</div>"
      ],
      "text/plain": [
       "   payer_int  beneficiary_int  amount\n",
       "0          0                4   3.500\n",
       "1          0                5   0.032\n",
       "2          0                8   1.048\n",
       "3          0                9   1.000\n",
       "4          0               10   1.000"
      ]
     },
     "execution_count": 1,
     "metadata": {},
     "output_type": "execute_result"
    }
   ],
   "source": [
    "%load_ext autoreload\n",
    "%autoreload 2\n",
    "\n",
    "#display all the results not only the last one\n",
    "from IPython.core.interactiveshell import InteractiveShell\n",
    "InteractiveShell.ast_node_interactivity = \"all\"\n",
    "\n",
    "import numpy as np\n",
    "from node_embeddings.graphs.Undirected_Graph import Undirected_Graph\n",
    "from node_embeddings.models.Undirected_MSM import Undirected_MSM\n",
    "from node_embeddings.utils import dataset_loader as ds\n",
    "\n",
    "dataset_name = \"Gleditsch\"\n",
    "distance_matrix, lvl_to_nclust = None, None\n",
    "\n",
    "# note that inside the kwargs there is a copy of the pdtrans\n",
    "id_code, cg_method, year = ds.default_4_undirected_paper(dataset_name)\n",
    "print(f'-id_code, cg_method, year: {id_code, cg_method, year}',)\n",
    "pdtrans, kwargs, total_levels = ds.dataset_loader(dataset_name, id_code = id_code, cg_method = cg_method, year = year)\n",
    "\n",
    "pdtrans.head()"
   ]
  },
  {
   "cell_type": "markdown",
   "id": "72b8ca78",
   "metadata": {},
   "source": [
    "Find the level, up to which the network is not fully connected. No reason to fit a probabilistic model on a complete/empty graphs, since they are fully deterministic."
   ]
  },
  {
   "cell_type": "code",
   "execution_count": 2,
   "id": "5",
   "metadata": {},
   "outputs": [
    {
     "name": "stdout",
     "output_type": "stream",
     "text": [
      "-Effective total_levels: 6\n"
     ]
    }
   ],
   "source": [
    "for level in np.arange(total_levels):\n",
    "    \n",
    "    # update only the level\n",
    "    kwargs.update({\"level\" : level,})\n",
    "    \n",
    "    # create the Undirected Graph\n",
    "    net = Undirected_Graph(**kwargs)\n",
    "\n",
    "    # the network is complete when all the entries of the adj mat are ones\n",
    "    if net.bin_adj.sum() == net.bin_adj.size:\n",
    "        total_levels = level\n",
    "\n",
    "print(f'-Effective total_levels: {total_levels}',)"
   ]
  },
  {
   "cell_type": "markdown",
   "id": "3",
   "metadata": {},
   "source": [
    "Fix the hyper-parameters for the model"
   ]
  },
  {
   "cell_type": "code",
   "execution_count": 3,
   "id": "4",
   "metadata": {},
   "outputs": [],
   "source": [
    "# for multi_models use maxlMSM.dimX > 1 or LPCA\n",
    "model_objective = \"NodeEmb\"\n",
    "model_name = \"MSM\"\n",
    "dimX =        2\n",
    "initial_guess, seed = \"random\", 0\n",
    "loss_iters, n_epochs = int(1e3), 20"
   ]
  },
  {
   "cell_type": "code",
   "execution_count": 4,
   "id": "6",
   "metadata": {},
   "outputs": [
    {
     "name": "stdout",
     "output_type": "stream",
     "text": [
      "\n",
      "-Level: 0 for MSM - dim 2\n",
      "-net.n_nodes, net.n_edges, und_density: 182, 9993, 0.6067\n",
      "\n",
      "-Level: 3 for MSM - dim 2\n",
      "-net.n_nodes, net.n_edges, und_density: 92, 2728, 0.6517\n"
     ]
    }
   ],
   "source": [
    "for level in [0, 3]:\n",
    "    print(f'\\n-Level: {level} for {model_name} - dim {dimX}',)\n",
    "    kwargs.update({\"level\" : level,})\n",
    "    net = Undirected_Graph(**kwargs)\n",
    "\n",
    "    und_density = 2 * net.n_edges / (net.n_nodes * (net.n_nodes - 1))\n",
    "    print(f'-net.n_nodes, net.n_edges, und_density: {net.n_nodes}, {net.n_edges}, {und_density:.4}',)\n",
    "\n",
    "    # don't fit if complete graph or empty\n",
    "    if net.n_nodes - net.fc_nodes.size > 0 and ~np.any(net.deg == 0):\n",
    "        model_kwargs = {\n",
    "                        \"name\" : model_name,\n",
    "                        \"dimX\" : dimX,\n",
    "                        \"dimBCX\" :dimX,\n",
    "                        \"initial_guess\" : initial_guess,\n",
    "                        \"seed\" : seed,\n",
    "                        \"direction\" : \"Undirected\",\n",
    "                        \"objective\" : model_objective,\n",
    "                    }\n",
    "\n",
    "        fit_model = Undirected_MSM(obs_net = net, **model_kwargs)\n",
    "        red_A = fit_model.zl_notdet_A if fit_model.get(\"reduced_by\") == \"neigh\" else net.zl_bin_adj    \n",
    "        fit_model._set_initial_guess()\n",
    "        fit_model.fit(red_A)\n",
    "\n",
    "        # REDO this by updating only the model_kwargs and dropping flevel_pdtranss\n",
    "        model_kwargs.update({\"name\" : f\"sum-{model_name}\", \"reduced_by\" : False})\n",
    "        sum_model = Undirected_MSM(obs_net = net, **model_kwargs)\n",
    "        sum_model.sum_Xw_prevl(obs_net = net, ref_model = fit_model)"
   ]
  },
  {
   "cell_type": "markdown",
   "id": "f827dce3",
   "metadata": {},
   "source": [
    "Plot the expected degrees of the last level"
   ]
  },
  {
   "cell_type": "code",
   "execution_count": 6,
   "id": "f15a7e8d",
   "metadata": {},
   "outputs": [
    {
     "data": {
      "text/plain": [
       "<matplotlib.collections.PathCollection at 0x1abb6559fd0>"
      ]
     },
     "execution_count": 6,
     "metadata": {},
     "output_type": "execute_result"
    },
    {
     "data": {
      "text/plain": [
       "<matplotlib.collections.PathCollection at 0x1abb655aed0>"
      ]
     },
     "execution_count": 6,
     "metadata": {},
     "output_type": "execute_result"
    },
    {
     "data": {
      "text/plain": [
       "<matplotlib.collections.PathCollection at 0x1abb669c890>"
      ]
     },
     "execution_count": 6,
     "metadata": {},
     "output_type": "execute_result"
    },
    {
     "data": {
      "text/plain": [
       "[None,\n",
       " None,\n",
       " Text(0.5, 0, 'Observed Degrees'),\n",
       " Text(0, 0.5, 'Expected Degrees'),\n",
       " Text(0.5, 1.0, 'Level 3')]"
      ]
     },
     "execution_count": 6,
     "metadata": {},
     "output_type": "execute_result"
    },
    {
     "data": {
      "text/plain": [
       "<matplotlib.legend.Legend at 0x1abb654fe50>"
      ]
     },
     "execution_count": 6,
     "metadata": {},
     "output_type": "execute_result"
    },
    {
     "data": {
      "image/png": "[encoded data removed]",
      "text/plain": [
       "<Figure size 600x600 with 1 Axes>"
      ]
     },
     "metadata": {},
     "output_type": "display_data"
    }
   ],
   "source": [
    "import matplotlib.pylab as plt\n",
    "\n",
    "fig, ax = plt.subplots(figsize = (6,6))\n",
    "axis_scale = 'log'\n",
    "obs_s, exp_s = 15, 120\n",
    "ax.scatter(net.deg,net.deg, marker = 'o', color = 'b', s = obs_s, label = 'Observed')\n",
    "ax.scatter(net.deg,fit_model.deg, marker = 'x', color = 'orange', s = exp_s, label = f'{fit_model.name}')\n",
    "ax.scatter(net.deg,sum_model.deg, marker = 'x', color = 'r', s = exp_s, label = 'Summed')\n",
    "ax.set(xscale = axis_scale, yscale = axis_scale, xlabel = 'Observed Degrees', ylabel = 'Expected Degrees', title = f'Level {level}')\n",
    "ax.legend()\n",
    "ax.set_axisbelow(True)\n",
    "ax.grid(True)"
   ]
  }
 ],
 "metadata": {
  "kernelspec": {
   "display_name": ".venv",
   "language": "python",
   "name": "python3"
  },
  "language_info": {
   "codemirror_mode": {
    "name": "ipython",
    "version": 3
   },
   "file_extension": ".py",
   "mimetype": "text/x-python",
   "name": "python",
   "nbconvert_exporter": "python",
   "pygments_lexer": "ipython3",
   "version": "3.11.0"
  },
  "toc-autonumbering": false,
  "toc-showmarkdowntxt": false
 },
 "nbformat": 4,
 "nbformat_minor": 5
}
